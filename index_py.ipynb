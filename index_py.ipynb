{
  "nbformat": 4,
  "nbformat_minor": 0,
  "metadata": {
    "colab": {
      "provenance": [],
      "authorship_tag": "ABX9TyOEjHnc3TGzclrN1/NIiq96",
      "include_colab_link": true
    },
    "kernelspec": {
      "name": "python3",
      "display_name": "Python 3"
    },
    "language_info": {
      "name": "python"
    }
  },
  "cells": [
    {
      "cell_type": "markdown",
      "metadata": {
        "id": "view-in-github",
        "colab_type": "text"
      },
      "source": [
        "<a href=\"https://colab.research.google.com/github/abarna1822/mobile_point/blob/main/index_py.ipynb\" target=\"_parent\"><img src=\"https://colab.research.google.com/assets/colab-badge.svg\" alt=\"Open In Colab\"/></a>"
      ]
    },
    {
      "cell_type": "code",
      "execution_count": 1,
      "metadata": {
        "colab": {
          "base_uri": "https://localhost:8080/"
        },
        "id": "3S1iQW9GlQiU",
        "outputId": "c9a2a4b4-6c69-4091-f984-143b0ca36608"
      },
      "outputs": [
        {
          "output_type": "stream",
          "name": "stdout",
          "text": [
            "Collecting streamlit\n",
            "  Downloading streamlit-1.46.1-py3-none-any.whl.metadata (9.0 kB)\n",
            "Collecting pyngrok\n",
            "  Downloading pyngrok-7.2.11-py3-none-any.whl.metadata (9.4 kB)\n",
            "Requirement already satisfied: altair<6,>=4.0 in /usr/local/lib/python3.11/dist-packages (from streamlit) (5.5.0)\n",
            "Requirement already satisfied: blinker<2,>=1.5.0 in /usr/local/lib/python3.11/dist-packages (from streamlit) (1.9.0)\n",
            "Requirement already satisfied: cachetools<7,>=4.0 in /usr/local/lib/python3.11/dist-packages (from streamlit) (5.5.2)\n",
            "Requirement already satisfied: click<9,>=7.0 in /usr/local/lib/python3.11/dist-packages (from streamlit) (8.2.1)\n",
            "Requirement already satisfied: numpy<3,>=1.23 in /usr/local/lib/python3.11/dist-packages (from streamlit) (2.0.2)\n",
            "Requirement already satisfied: packaging<26,>=20 in /usr/local/lib/python3.11/dist-packages (from streamlit) (24.2)\n",
            "Requirement already satisfied: pandas<3,>=1.4.0 in /usr/local/lib/python3.11/dist-packages (from streamlit) (2.2.2)\n",
            "Requirement already satisfied: pillow<12,>=7.1.0 in /usr/local/lib/python3.11/dist-packages (from streamlit) (11.2.1)\n",
            "Requirement already satisfied: protobuf<7,>=3.20 in /usr/local/lib/python3.11/dist-packages (from streamlit) (5.29.5)\n",
            "Requirement already satisfied: pyarrow>=7.0 in /usr/local/lib/python3.11/dist-packages (from streamlit) (18.1.0)\n",
            "Requirement already satisfied: requests<3,>=2.27 in /usr/local/lib/python3.11/dist-packages (from streamlit) (2.32.3)\n",
            "Requirement already satisfied: tenacity<10,>=8.1.0 in /usr/local/lib/python3.11/dist-packages (from streamlit) (8.5.0)\n",
            "Requirement already satisfied: toml<2,>=0.10.1 in /usr/local/lib/python3.11/dist-packages (from streamlit) (0.10.2)\n",
            "Requirement already satisfied: typing-extensions<5,>=4.4.0 in /usr/local/lib/python3.11/dist-packages (from streamlit) (4.14.0)\n",
            "Collecting watchdog<7,>=2.1.5 (from streamlit)\n",
            "  Downloading watchdog-6.0.0-py3-none-manylinux2014_x86_64.whl.metadata (44 kB)\n",
            "\u001b[2K     \u001b[90m━━━━━━━━━━━━━━━━━━━━━━━━━━━━━━━━━━━━━━━━\u001b[0m \u001b[32m44.3/44.3 kB\u001b[0m \u001b[31m2.4 MB/s\u001b[0m eta \u001b[36m0:00:00\u001b[0m\n",
            "\u001b[?25hRequirement already satisfied: gitpython!=3.1.19,<4,>=3.0.7 in /usr/local/lib/python3.11/dist-packages (from streamlit) (3.1.44)\n",
            "Collecting pydeck<1,>=0.8.0b4 (from streamlit)\n",
            "  Downloading pydeck-0.9.1-py2.py3-none-any.whl.metadata (4.1 kB)\n",
            "Requirement already satisfied: tornado!=6.5.0,<7,>=6.0.3 in /usr/local/lib/python3.11/dist-packages (from streamlit) (6.4.2)\n",
            "Requirement already satisfied: PyYAML>=5.1 in /usr/local/lib/python3.11/dist-packages (from pyngrok) (6.0.2)\n",
            "Requirement already satisfied: jinja2 in /usr/local/lib/python3.11/dist-packages (from altair<6,>=4.0->streamlit) (3.1.6)\n",
            "Requirement already satisfied: jsonschema>=3.0 in /usr/local/lib/python3.11/dist-packages (from altair<6,>=4.0->streamlit) (4.24.0)\n",
            "Requirement already satisfied: narwhals>=1.14.2 in /usr/local/lib/python3.11/dist-packages (from altair<6,>=4.0->streamlit) (1.44.0)\n",
            "Requirement already satisfied: gitdb<5,>=4.0.1 in /usr/local/lib/python3.11/dist-packages (from gitpython!=3.1.19,<4,>=3.0.7->streamlit) (4.0.12)\n",
            "Requirement already satisfied: python-dateutil>=2.8.2 in /usr/local/lib/python3.11/dist-packages (from pandas<3,>=1.4.0->streamlit) (2.9.0.post0)\n",
            "Requirement already satisfied: pytz>=2020.1 in /usr/local/lib/python3.11/dist-packages (from pandas<3,>=1.4.0->streamlit) (2025.2)\n",
            "Requirement already satisfied: tzdata>=2022.7 in /usr/local/lib/python3.11/dist-packages (from pandas<3,>=1.4.0->streamlit) (2025.2)\n",
            "Requirement already satisfied: charset-normalizer<4,>=2 in /usr/local/lib/python3.11/dist-packages (from requests<3,>=2.27->streamlit) (3.4.2)\n",
            "Requirement already satisfied: idna<4,>=2.5 in /usr/local/lib/python3.11/dist-packages (from requests<3,>=2.27->streamlit) (3.10)\n",
            "Requirement already satisfied: urllib3<3,>=1.21.1 in /usr/local/lib/python3.11/dist-packages (from requests<3,>=2.27->streamlit) (2.4.0)\n",
            "Requirement already satisfied: certifi>=2017.4.17 in /usr/local/lib/python3.11/dist-packages (from requests<3,>=2.27->streamlit) (2025.6.15)\n",
            "Requirement already satisfied: smmap<6,>=3.0.1 in /usr/local/lib/python3.11/dist-packages (from gitdb<5,>=4.0.1->gitpython!=3.1.19,<4,>=3.0.7->streamlit) (5.0.2)\n",
            "Requirement already satisfied: MarkupSafe>=2.0 in /usr/local/lib/python3.11/dist-packages (from jinja2->altair<6,>=4.0->streamlit) (3.0.2)\n",
            "Requirement already satisfied: attrs>=22.2.0 in /usr/local/lib/python3.11/dist-packages (from jsonschema>=3.0->altair<6,>=4.0->streamlit) (25.3.0)\n",
            "Requirement already satisfied: jsonschema-specifications>=2023.03.6 in /usr/local/lib/python3.11/dist-packages (from jsonschema>=3.0->altair<6,>=4.0->streamlit) (2025.4.1)\n",
            "Requirement already satisfied: referencing>=0.28.4 in /usr/local/lib/python3.11/dist-packages (from jsonschema>=3.0->altair<6,>=4.0->streamlit) (0.36.2)\n",
            "Requirement already satisfied: rpds-py>=0.7.1 in /usr/local/lib/python3.11/dist-packages (from jsonschema>=3.0->altair<6,>=4.0->streamlit) (0.25.1)\n",
            "Requirement already satisfied: six>=1.5 in /usr/local/lib/python3.11/dist-packages (from python-dateutil>=2.8.2->pandas<3,>=1.4.0->streamlit) (1.17.0)\n",
            "Downloading streamlit-1.46.1-py3-none-any.whl (10.1 MB)\n",
            "\u001b[2K   \u001b[90m━━━━━━━━━━━━━━━━━━━━━━━━━━━━━━━━━━━━━━━━\u001b[0m \u001b[32m10.1/10.1 MB\u001b[0m \u001b[31m32.9 MB/s\u001b[0m eta \u001b[36m0:00:00\u001b[0m\n",
            "\u001b[?25hDownloading pyngrok-7.2.11-py3-none-any.whl (25 kB)\n",
            "Downloading pydeck-0.9.1-py2.py3-none-any.whl (6.9 MB)\n",
            "\u001b[2K   \u001b[90m━━━━━━━━━━━━━━━━━━━━━━━━━━━━━━━━━━━━━━━━\u001b[0m \u001b[32m6.9/6.9 MB\u001b[0m \u001b[31m36.9 MB/s\u001b[0m eta \u001b[36m0:00:00\u001b[0m\n",
            "\u001b[?25hDownloading watchdog-6.0.0-py3-none-manylinux2014_x86_64.whl (79 kB)\n",
            "\u001b[2K   \u001b[90m━━━━━━━━━━━━━━━━━━━━━━━━━━━━━━━━━━━━━━━━\u001b[0m \u001b[32m79.1/79.1 kB\u001b[0m \u001b[31m4.0 MB/s\u001b[0m eta \u001b[36m0:00:00\u001b[0m\n",
            "\u001b[?25hInstalling collected packages: watchdog, pyngrok, pydeck, streamlit\n",
            "Successfully installed pydeck-0.9.1 pyngrok-7.2.11 streamlit-1.46.1 watchdog-6.0.0\n"
          ]
        }
      ],
      "source": [
        "!pip install streamlit pyngrok"
      ]
    },
    {
      "cell_type": "code",
      "source": [
        "!ngrok config add-authtoken 2ydudH1tDLF866IfVZAhRPOMJwM_3Din1BECgtMsNDgfMbFdj\n"
      ],
      "metadata": {
        "colab": {
          "base_uri": "https://localhost:8080/"
        },
        "id": "esYUZt5YrCO8",
        "outputId": "1699993d-7b7a-47d4-9b42-b666c52fc55a"
      },
      "execution_count": 2,
      "outputs": [
        {
          "output_type": "stream",
          "name": "stdout",
          "text": [
            "Authtoken saved to configuration file: /root/.config/ngrok/ngrok.yml\n"
          ]
        }
      ]
    },
    {
      "cell_type": "code",
      "source": [
        "!pip install reportlab"
      ],
      "metadata": {
        "colab": {
          "base_uri": "https://localhost:8080/"
        },
        "id": "lSnXJ8xPwLIo",
        "outputId": "c0a07e4f-345f-49c4-987e-a135834a4973"
      },
      "execution_count": 3,
      "outputs": [
        {
          "output_type": "stream",
          "name": "stdout",
          "text": [
            "Collecting reportlab\n",
            "  Downloading reportlab-4.4.2-py3-none-any.whl.metadata (1.8 kB)\n",
            "Requirement already satisfied: pillow>=9.0.0 in /usr/local/lib/python3.11/dist-packages (from reportlab) (11.2.1)\n",
            "Requirement already satisfied: charset-normalizer in /usr/local/lib/python3.11/dist-packages (from reportlab) (3.4.2)\n",
            "Downloading reportlab-4.4.2-py3-none-any.whl (2.0 MB)\n",
            "\u001b[2K   \u001b[90m━━━━━━━━━━━━━━━━━━━━━━━━━━━━━━━━━━━━━━━━\u001b[0m \u001b[32m2.0/2.0 MB\u001b[0m \u001b[31m15.3 MB/s\u001b[0m eta \u001b[36m0:00:00\u001b[0m\n",
            "\u001b[?25hInstalling collected packages: reportlab\n",
            "Successfully installed reportlab-4.4.2\n"
          ]
        }
      ]
    },
    {
      "cell_type": "code",
      "source": [
        "code = '''\n",
        "import streamlit as st\n",
        "from datetime import datetime\n",
        "import pandas as pd\n",
        "from reportlab.pdfgen import canvas\n",
        "import os\n",
        "\n",
        "st.set_page_config(page_title=\"Mobile Point\", layout=\"wide\")\n",
        "\n",
        "st.markdown(\"<h1 style='text-align: center; color: #00a8ff;'>📱 MOBILE POINT</h1>\", unsafe_allow_html=True)\n",
        "\n",
        "# === GLOBAL STATE ===\n",
        "if 'data' not in st.session_state:\n",
        "    st.session_state.data = []\n",
        "    st.session_state.token_counter = 1\n",
        "\n",
        "# === Utility Functions ===\n",
        "def format_duration(seconds):\n",
        "    mins, secs = divmod(seconds, 60)\n",
        "    hours, mins = divmod(mins, 60)\n",
        "    return f\"{int(hours):02d}:{int(mins):02d}:{int(secs):02d}\"\n",
        "\n",
        "def update_dashboard():\n",
        "    total_tokens = st.session_state.token_counter - 1\n",
        "    mobiles_inside = sum(1 for d in st.session_state.data if d['out_time'] is None)\n",
        "    durations = [(d['out_time'] - d['in_time']).total_seconds() for d in st.session_state.data if d['out_time']]\n",
        "    avg_duration = format_duration(sum(durations) / len(durations)) if durations else \"00:00:00\"\n",
        "    return total_tokens, mobiles_inside, avg_duration\n",
        "\n",
        "def refresh_df():\n",
        "    df = []\n",
        "    for d in st.session_state.data:\n",
        "        df.append({\n",
        "            \"Token\": d['token'],\n",
        "            \"Roll Number\": d['roll_number'],\n",
        "            \"In-Time\": d['in_time'].strftime(\"%Y-%m-%d %H:%M:%S\"),\n",
        "            \"Out-Time\": d['out_time'].strftime(\"%Y-%m-%d %H:%M:%S\") if d['out_time'] else \"N/A\",\n",
        "            \"Duration\": format_duration((d['out_time'] - d['in_time']).total_seconds()) if d['out_time'] else \"-\"\n",
        "        })\n",
        "    return pd.DataFrame(df)\n",
        "\n",
        "def generate_pdf(token, roll_number, in_time, out_time):\n",
        "    filename = f\"receipt_token_{token}.pdf\"\n",
        "    c = canvas.Canvas(filename)\n",
        "    c.setFont(\"Helvetica\", 14)\n",
        "    c.drawString(100, 750, \"📄 Mobile Point - Receipt\")\n",
        "    c.line(100, 740, 500, 740)\n",
        "    c.drawString(100, 710, f\"Token Number: {token}\")\n",
        "    c.drawString(100, 690, f\"Roll Number: {roll_number}\")\n",
        "    c.drawString(100, 670, f\"In Time: {in_time.strftime('%Y-%m-%d %H:%M:%S')}\")\n",
        "    c.drawString(100, 650, f\"Out Time: {out_time.strftime('%Y-%m-%d %H:%M:%S')}\")\n",
        "    duration = out_time - in_time\n",
        "    c.drawString(100, 630, f\"Duration: {format_duration(duration.total_seconds())}\")\n",
        "    c.save()\n",
        "    return filename\n",
        "\n",
        "# === Input Area ===\n",
        "if 'roll' not in st.session_state:\n",
        "    st.session_state.roll = \"\"\n",
        "\n",
        "roll = st.text_input(\"Enter Roll Number\", value=st.session_state.roll, key=\"roll_input\")\n",
        "\n",
        "col1, col2, col3 = st.columns([1, 1, 1])\n",
        "pdf_path = None\n",
        "\n",
        "with col1:\n",
        "    if st.button(\"Allocate Slot\"):\n",
        "        if not roll.strip():\n",
        "            st.warning(\"Please enter roll number.\")\n",
        "        else:\n",
        "            for d in st.session_state.data:\n",
        "                if d['roll_number'] == roll and d['out_time'] is None:\n",
        "                    st.info(f\"Mobile already allocated to {roll}.\")\n",
        "                    break\n",
        "            else:\n",
        "                st.session_state.data.append({\n",
        "                    'token': st.session_state.token_counter,\n",
        "                    'roll_number': roll,\n",
        "                    'in_time': datetime.now(),\n",
        "                    'out_time': None\n",
        "                })\n",
        "                st.session_state.token_counter += 1\n",
        "                st.success(f\"Slot allocated for {roll}.\")\n",
        "\n",
        "with col2:\n",
        "    if st.button(\"Deallocate Slot\"):\n",
        "        for d in st.session_state.data:\n",
        "            if d['roll_number'] == roll and d['out_time'] is None:\n",
        "                d['out_time'] = datetime.now()\n",
        "                st.success(f\"Mobile returned for roll {roll}. Generating receipt...\")\n",
        "                pdf_path = generate_pdf(d['token'], d['roll_number'], d['in_time'], d['out_time'])\n",
        "                break\n",
        "        else:\n",
        "            st.info(f\"No active allocation found for roll {roll}.\")\n",
        "\n",
        "with col3:\n",
        "    if st.button(\"Clear Entry\"):\n",
        "        st.session_state.roll = \"\"  # Reset the input field\n",
        "\n",
        "# === Dashboard ===\n",
        "st.markdown(\"---\")\n",
        "st.markdown(\"### 📊 Dashboard\")\n",
        "total, inside, avg = update_dashboard()\n",
        "col1, col2, col3 = st.columns(3)\n",
        "col1.metric(\"Total Tokens\", total)\n",
        "col2.metric(\"Mobiles Inside\", inside)\n",
        "col3.metric(\"Average Duration\", avg)\n",
        "\n",
        "# === PDF Link ===\n",
        "if pdf_path and os.path.exists(pdf_path):\n",
        "    with open(pdf_path, \"rb\") as f:\n",
        "        st.download_button(\"📥 Download PDF Receipt\", f, file_name=pdf_path, mime=\"application/pdf\")\n",
        "\n",
        "# === Data Table ===\n",
        "st.markdown(\"---\")\n",
        "st.markdown(\"### 📋 History\")\n",
        "df = refresh_df()\n",
        "st.dataframe(df, use_container_width=True)\n",
        "'''\n",
        "\n",
        "with open(\"index.py\", \"w\") as f:\n",
        "    f.write(code)\n"
      ],
      "metadata": {
        "id": "iCTJ4dy_lx1k"
      },
      "execution_count": 4,
      "outputs": []
    },
    {
      "cell_type": "code",
      "source": [
        "# Kill previous Streamlit instances\n",
        "!pkill streamlit\n",
        "\n",
        "# Start Streamlit in background\n",
        "!streamlit run index.py &>/content/log.txt &\n",
        "\n",
        "# Connect ngrok (corrected)\n",
        "from pyngrok import ngrok\n",
        "public_url = ngrok.connect(addr=\"8501\", proto=\"http\")\n",
        "print(f\"✅ App is live at: {public_url}\")"
      ],
      "metadata": {
        "colab": {
          "base_uri": "https://localhost:8080/"
        },
        "id": "PNw4e_JTmmCy",
        "outputId": "392bc625-7e6b-4cea-bb21-80dabc495bf5"
      },
      "execution_count": 5,
      "outputs": [
        {
          "output_type": "stream",
          "name": "stdout",
          "text": [
            "✅ App is live at: NgrokTunnel: \"https://69ae-34-41-142-168.ngrok-free.app\" -> \"http://localhost:8501\"\n"
          ]
        }
      ]
    }
  ]
}